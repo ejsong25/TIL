{
 "cells": [
  {
   "cell_type": "markdown",
   "id": "322cc079-089d-4019-8dce-76880363d376",
   "metadata": {},
   "source": [
    "# 2. 동영상 출력"
   ]
  },
  {
   "cell_type": "markdown",
   "id": "f77e71c8-61a8-4082-ab35-8d168d9ac8a9",
   "metadata": {},
   "source": [
    "## 동영상 파일 출력"
   ]
  },
  {
   "cell_type": "code",
   "execution_count": 4,
   "id": "6040d6b2-f56f-4450-b0d5-6dc514073439",
   "metadata": {},
   "outputs": [
    {
     "name": "stdout",
     "output_type": "stream",
     "text": [
      "사용자 입력에 의해 종료합니다.\n"
     ]
    }
   ],
   "source": [
    "import cv2\n",
    "cap = cv2.VideoCapture('video.mp4')\n",
    "\n",
    "while cap.isOpened(): # 동영상 파일이 올바로 열려있다면\n",
    "    ret, frame = cap.read() # ret : 성공 여부, frane : 받아온 이미지 (frame)\n",
    "        \n",
    "    if not ret : # 더이상 읽을 프레임이 없을 경우\n",
    "        print('더이상 가져올 프레임이 없습니다.')\n",
    "        break\n",
    "        \n",
    "    cv2.imshow('video', frame)\n",
    "\n",
    "    # waitKey를 통해 동영상 재생 속도를 조절할 수 있다.\n",
    "    if cv2.waitKey(25) == ord('q'):\n",
    "        print('사용자 입력에 의해 종료합니다.')\n",
    "        break\n",
    "\n",
    "cap.release() # 자원 반환\n",
    "cv2.destroyAllWindows()"
   ]
  },
  {
   "cell_type": "code",
   "execution_count": null,
   "id": "f43cf008-b54e-4191-9897-539b7133b071",
   "metadata": {},
   "outputs": [],
   "source": []
  },
  {
   "cell_type": "code",
   "execution_count": null,
   "id": "7a0c644c-b5a4-41fa-9ae9-2a3cd97f99ca",
   "metadata": {},
   "outputs": [],
   "source": []
  },
  {
   "cell_type": "code",
   "execution_count": null,
   "id": "9f45a575-4c3d-4dc0-80c2-5dc4fde031e3",
   "metadata": {},
   "outputs": [],
   "source": []
  }
 ],
 "metadata": {
  "kernelspec": {
   "display_name": "Python 3 (ipykernel)",
   "language": "python",
   "name": "python3"
  },
  "language_info": {
   "codemirror_mode": {
    "name": "ipython",
    "version": 3
   },
   "file_extension": ".py",
   "mimetype": "text/x-python",
   "name": "python",
   "nbconvert_exporter": "python",
   "pygments_lexer": "ipython3",
   "version": "3.12.4"
  }
 },
 "nbformat": 4,
 "nbformat_minor": 5
}
