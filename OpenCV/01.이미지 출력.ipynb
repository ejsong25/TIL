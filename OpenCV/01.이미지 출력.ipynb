{
 "cells": [
  {
   "cell_type": "markdown",
   "id": "4ff5df45-94af-4390-95f2-abd6b19db8dd",
   "metadata": {},
   "source": [
    "# 환경설정\n",
    "\n",
    "Anaconda Prompt에서 다음 명령 수행\n",
    "> pip install opencv-python"
   ]
  },
  {
   "cell_type": "code",
   "execution_count": 3,
   "id": "840ab6da-8d38-4ed4-b70c-92c64e83be6c",
   "metadata": {},
   "outputs": [
    {
     "data": {
      "text/plain": [
       "'4.10.0'"
      ]
     },
     "execution_count": 3,
     "metadata": {},
     "output_type": "execute_result"
    }
   ],
   "source": [
    "import cv2 \n",
    "cv2.__version__"
   ]
  },
  {
   "cell_type": "markdown",
   "id": "732b3d3a-d2e8-4ce8-992e-3d0576084cc2",
   "metadata": {},
   "source": [
    "# OpenCV (Computer Vision)\n",
    "다양한 영상(이미지) / 동영상 처리에 사용되는 오픈소스 라이브러리"
   ]
  },
  {
   "cell_type": "markdown",
   "id": "c9c4ed06-16ce-44db-aa05-d12ad0ac2893",
   "metadata": {},
   "source": [
    "# 1. 이미지 출력"
   ]
  },
  {
   "cell_type": "code",
   "execution_count": 5,
   "id": "b3bce0b8-23c6-4a68-8d28-b008ba9c7cac",
   "metadata": {},
   "outputs": [],
   "source": [
    "img = cv2.imread('cat_or_dog_1.jpg') # 해당 경로 파일 읽어오기\n",
    "cv2.imshow('img', img) # img라는 이름의 창에 img 표시\n",
    "cv2.waitKey(0) # key event를 지정된 시간(ms)동안 대기\n",
    "cv2.destroyAllWindows() # 모든 창 닫기"
   ]
  },
  {
   "cell_type": "markdown",
   "id": "665ef1ec-bf0e-4a04-915e-351a5456af01",
   "metadata": {},
   "source": [
    "## 읽기 옵션\n",
    "1. cv2.IMREAD_COLOR : 컬러 이미지, 투명 영역은 무시 (기본값)\n",
    "1. cv2.IMGREAD_GRAYSCALE : 흑백 이미지\n",
    "1. cv2.IMREAD_UNCHANGED : 투명 영역까지 포함 "
   ]
  },
  {
   "cell_type": "code",
   "execution_count": 7,
   "id": "374e5b1b-f6d3-4cdb-b1ca-ba2a526a9907",
   "metadata": {},
   "outputs": [],
   "source": [
    "img_color = cv2.imread('cat_or_dog_1.jpg', cv2.IMREAD_COLOR)\n",
    "img_gray = cv2.imread('cat_or_dog_1.jpg', cv2.IMREAD_GRAYSCALE)\n",
    "img_unchanged = cv2.imread('cat_or_dog_1.jpg', cv2.IMREAD_UNCHANGED)\n",
    "\n",
    "cv2.imshow('img_color', img_color)\n",
    "cv2.imshow('img_gray', img_gray)\n",
    "cv2.imshow('img_unchanged', img_unchanged)\n",
    "\n",
    "cv2.waitKey(0)\n",
    "cv2.destroyAllWindows()"
   ]
  },
  {
   "cell_type": "markdown",
   "id": "8d107d82-4ac1-4074-99ac-4923235a8fcc",
   "metadata": {},
   "source": [
    "## Shape\n",
    "\n",
    "이미지의 height, width, channel 정보"
   ]
  },
  {
   "cell_type": "code",
   "execution_count": 13,
   "id": "4f87b18d-f972-47c0-b820-2f410e1f0f4d",
   "metadata": {},
   "outputs": [
    {
     "data": {
      "text/plain": [
       "(183, 275, 3)"
      ]
     },
     "execution_count": 13,
     "metadata": {},
     "output_type": "execute_result"
    }
   ],
   "source": [
    "img = cv2.imread('cat_or_dog_1.jpg')\n",
    "\n",
    "img.shape # 세로, 가로, channel(RGB)"
   ]
  }
 ],
 "metadata": {
  "kernelspec": {
   "display_name": "Python 3 (ipykernel)",
   "language": "python",
   "name": "python3"
  },
  "language_info": {
   "codemirror_mode": {
    "name": "ipython",
    "version": 3
   },
   "file_extension": ".py",
   "mimetype": "text/x-python",
   "name": "python",
   "nbconvert_exporter": "python",
   "pygments_lexer": "ipython3",
   "version": "3.12.4"
  }
 },
 "nbformat": 4,
 "nbformat_minor": 5
}
